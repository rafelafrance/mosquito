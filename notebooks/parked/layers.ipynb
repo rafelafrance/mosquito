{
 "cells": [
  {
   "cell_type": "code",
   "execution_count": 1,
   "id": "ce9c8668-c1c8-4a5c-849e-7f3a7955f63c",
   "metadata": {},
   "outputs": [],
   "source": [
    "from pathlib import Path\n",
    "\n",
    "import numpy as np\n",
    "import rasterio as rs\n",
    "from matplotlib import pyplot"
   ]
  },
  {
   "cell_type": "code",
   "execution_count": 2,
   "id": "0cbca9a2-888b-4351-96b3-21825a14cab9",
   "metadata": {},
   "outputs": [],
   "source": [
    "LAYER_DIR = Path(\"..\") / \"data\" / \"layers\""
   ]
  },
  {
   "cell_type": "code",
   "execution_count": 3,
   "id": "1e92dcbe-a057-482e-9de0-1b91f74bb26a",
   "metadata": {},
   "outputs": [
    {
     "data": {
      "text/plain": [
       "(41668, 19981)"
      ]
     },
     "execution_count": 3,
     "metadata": {},
     "output_type": "execute_result"
    }
   ],
   "source": [
    "dataset = rs.open(LAYER_DIR / \"landscape_composite.tif\")\n",
    "\n",
    "dataset.shape"
   ]
  },
  {
   "cell_type": "code",
   "execution_count": 4,
   "id": "efa87e01-b92b-449f-8c52-adc03be72954",
   "metadata": {},
   "outputs": [
    {
     "data": {
      "text/plain": [
       "4"
      ]
     },
     "execution_count": 4,
     "metadata": {},
     "output_type": "execute_result"
    }
   ],
   "source": [
    "dataset.count"
   ]
  },
  {
   "cell_type": "code",
   "execution_count": 5,
   "id": "2915c94c-b27b-4fab-bd85-9c05b26665be",
   "metadata": {},
   "outputs": [
    {
     "data": {
      "text/plain": [
       "(41668, 19981)"
      ]
     },
     "execution_count": 5,
     "metadata": {},
     "output_type": "execute_result"
    }
   ],
   "source": [
    "msk = dataset.read_masks(1)\n",
    "\n",
    "msk.shape"
   ]
  },
  {
   "cell_type": "code",
   "execution_count": 6,
   "id": "2c02b100-87b5-464c-9080-ab1ea780b0f4",
   "metadata": {},
   "outputs": [
    {
     "data": {
      "text/plain": [
       "{1: 'float32', 2: 'float32', 3: 'float32', 4: 'float32'}"
      ]
     },
     "execution_count": 6,
     "metadata": {},
     "output_type": "execute_result"
    }
   ],
   "source": [
    "{i: dtype for i, dtype in zip(dataset.indexes, dataset.dtypes)}"
   ]
  },
  {
   "cell_type": "code",
   "execution_count": 7,
   "id": "72c0a8f3-7e62-48a0-84e4-a9e13d3558b6",
   "metadata": {},
   "outputs": [
    {
     "data": {
      "text/plain": [
       "BoundingBox(left=820000.0, bottom=1169997.0, right=879943.0, top=1295001.0)"
      ]
     },
     "execution_count": 7,
     "metadata": {},
     "output_type": "execute_result"
    }
   ],
   "source": [
    "dataset.bounds"
   ]
  },
  {
   "cell_type": "code",
   "execution_count": 8,
   "id": "5870ee71-021b-49a6-bab2-ed6e81275d66",
   "metadata": {},
   "outputs": [
    {
     "data": {
      "text/plain": [
       "CRS.from_epsg(6438)"
      ]
     },
     "execution_count": 8,
     "metadata": {},
     "output_type": "execute_result"
    }
   ],
   "source": [
    "dataset.crs"
   ]
  },
  {
   "cell_type": "code",
   "execution_count": 9,
   "id": "b6dd541c-566a-4d27-bb6b-cbb19124e814",
   "metadata": {},
   "outputs": [
    {
     "data": {
      "text/plain": [
       "(1, 2, 3, 4)"
      ]
     },
     "execution_count": 9,
     "metadata": {},
     "output_type": "execute_result"
    }
   ],
   "source": [
    "dataset.indexes"
   ]
  },
  {
   "cell_type": "code",
   "execution_count": 10,
   "id": "393f0a86-caf0-48ec-b147-a198960c5d3f",
   "metadata": {},
   "outputs": [],
   "source": [
    "band1 = dataset.read(1)"
   ]
  },
  {
   "cell_type": "code",
   "execution_count": 11,
   "id": "d6f34a58-bfa4-427f-8798-c5187866a6a2",
   "metadata": {},
   "outputs": [
    {
     "data": {
      "image/png": "[encoded data removed]",
      "text/plain": [
       "<Figure size 640x480 with 1 Axes>"
      ]
     },
     "metadata": {},
     "output_type": "display_data"
    }
   ],
   "source": [
    "pyplot.imshow(dataset.read(1), cmap='gray')\n",
    "pyplot.show()"
   ]
  },
  {
   "cell_type": "code",
   "execution_count": null,
   "id": "3eaa2ef5-8044-40e4-ba48-d3b70f4a7302",
   "metadata": {},
   "outputs": [],
   "source": []
  },
  {
   "cell_type": "code",
   "execution_count": null,
   "id": "713929ff-e80a-4fab-a352-d260cf1ed43c",
   "metadata": {},
   "outputs": [],
   "source": []
  }
 ],
 "metadata": {
  "kernelspec": {
   "display_name": "venv311",
   "language": "python",
   "name": "venv311"
  },
  "language_info": {
   "codemirror_mode": {
    "name": "ipython",
    "version": 3
   },
   "file_extension": ".py",
   "mimetype": "text/x-python",
   "name": "python",
   "nbconvert_exporter": "python",
   "pygments_lexer": "ipython3",
   "version": "3.11.4"
  }
 },
 "nbformat": 4,
 "nbformat_minor": 5
}
