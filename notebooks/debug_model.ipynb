{
 "cells": [
  {
   "cell_type": "code",
   "execution_count": 1,
   "id": "6b97a7b1-d6c3-42f3-a2c0-577d210ed9c8",
   "metadata": {
    "tags": []
   },
   "outputs": [],
   "source": [
    "import sys\n",
    "from pathlib import Path\n",
    "from types import SimpleNamespace\n",
    "\n",
    "import matplotlib.pyplot as plt\n",
    "import numpy as np\n",
    "import torch\n",
    "from ipywidgets import interact\n",
    "from tqdm import tqdm\n",
    "\n",
    "sys.path.append(\"../mosquito\")\n",
    "\n",
    "from pylib import stripe  # noqa\n",
    "from pylib import tile  # noqa\n",
    "from pylib import trainer_engine as trainer  # noqa\n",
    "from pylib.simple_unet import SimpleUNet  # noqa\n",
    "from pylib.tile_dataset import TileDataset  # noqa"
   ]
  },
  {
   "cell_type": "code",
   "execution_count": 2,
   "id": "7d2ad126-f52f-484b-bdb7-51403c610af6",
   "metadata": {},
   "outputs": [],
   "source": [
    "args = SimpleNamespace(\n",
    "    stripe_csv=Path(\"../data/stripes.csv\"),\n",
    "    layer_path=[\n",
    "        Path(\"../data/layers/dem.tif\"),\n",
    "        Path(\"../data/layers/fa.tif\"),\n",
    "        Path(\"../data/layers/slope.tif\"),\n",
    "        Path(\"../data/layers/wetness.tif\"),\n",
    "    ],\n",
    "    target_file=Path(\"../data/layers/larv_spot_50m_correct.tif\"),\n",
    "    save_model=Path(\"../data/models\"),\n",
    "    load_model=None,\n",
    "    lr=0.00001,\n",
    "    train_stride=192,\n",
    "    val_stride=256,\n",
    "    tile_size=512,\n",
    "    batch_size=32,\n",
    "    workers=4,\n",
    "    epochs=100,\n",
    "    log_dir=None,\n",
    "    limit=None,\n",
    ")"
   ]
  },
  {
   "cell_type": "code",
   "execution_count": 3,
   "id": "dcc50596-cfeb-4089-b5d2-abb7d6ff5fbe",
   "metadata": {},
   "outputs": [],
   "source": [
    "layers, target = trainer.get_images(args)"
   ]
  },
  {
   "cell_type": "code",
   "execution_count": 4,
   "id": "172fd70b-776f-4076-8bf4-59ddbc1db577",
   "metadata": {},
   "outputs": [
    {
     "data": {
      "image/png": "[encoded data removed]",
      "text/plain": [
       "<Figure size 640x480 with 1 Axes>"
      ]
     },
     "metadata": {},
     "output_type": "display_data"
    }
   ],
   "source": [
    "plt.figure()\n",
    "plt.imshow(target[0], cmap=plt.cm.gray)\n",
    "plt.axis(\"off\")\n",
    "plt.show()"
   ]
  },
  {
   "cell_type": "code",
   "execution_count": 5,
   "id": "4f288e91-026d-4b2d-a8ed-0c818332f7d4",
   "metadata": {},
   "outputs": [],
   "source": [
    "stripes = stripe.read_stripes(args.stripe_csv, \"train\")\n",
    "tiles = tile.get_tiles(stripes, limits=target.shape[1:], stride=args.train_stride)\n",
    "dataset = TileDataset(tiles, layers, target, augment=True)"
   ]
  },
  {
   "cell_type": "code",
   "execution_count": 6,
   "id": "e9934597-b75e-4894-85ab-c48ec863a823",
   "metadata": {
    "tags": []
   },
   "outputs": [
    {
     "data": {
      "application/vnd.jupyter.widget-view+json": {
       "model_id": "eaec45a1616e40948be92fd2cba4cd1b",
       "version_major": 2,
       "version_minor": 0
      },
      "text/plain": [
       "interactive(children=(IntSlider(value=2696, description='idx', max=5393), Output()), _dom_classes=('widget-int…"
      ]
     },
     "metadata": {},
     "output_type": "display_data"
    },
    {
     "data": {
      "text/plain": [
       "<function __main__.show(idx)>"
      ]
     },
     "execution_count": 6,
     "metadata": {},
     "output_type": "execute_result"
    }
   ],
   "source": [
    "def show(idx):\n",
    "    image, y_true = dataset[idx]\n",
    "\n",
    "    print(np.isnan(np.sum(image)))\n",
    "\n",
    "    fig, axes = plt.subplots(\n",
    "        nrows=2, ncols=3, sharex=True, sharey=True, figsize=(24, 16)\n",
    "    )\n",
    "    ax = axes.ravel()\n",
    "\n",
    "    ax[0].imshow(image[0], cmap=plt.cm.gray)\n",
    "    ax[0].set_title(\"dem\")\n",
    "    ax[0].axis(\"off\")\n",
    "\n",
    "    ax[1].imshow(image[1], cmap=plt.cm.gray)\n",
    "    ax[1].set_title(\"fa\")\n",
    "    ax[1].axis(\"off\")\n",
    "\n",
    "    ax[2].imshow(image[2], cmap=plt.cm.gray)\n",
    "    ax[2].set_title(\"slope\")\n",
    "    ax[2].axis(\"off\")\n",
    "\n",
    "    ax[3].imshow(image[3], cmap=plt.cm.gray)\n",
    "    ax[3].set_title(\"wetness\")\n",
    "    ax[3].axis(\"off\")\n",
    "\n",
    "    ax[4].axis(\"off\")\n",
    "\n",
    "    ax[5].imshow(y_true[0], cmap=plt.cm.gray)\n",
    "    ax[5].set_title(\"larvae\")\n",
    "    ax[5].axis(\"off\")\n",
    "\n",
    "    plt.show()\n",
    "\n",
    "\n",
    "interact(show, idx=(0, len(tiles)))"
   ]
  },
  {
   "cell_type": "code",
   "execution_count": 7,
   "id": "8f70a1bc-716e-4165-846f-5ff2fce0a40c",
   "metadata": {
    "tags": []
   },
   "outputs": [],
   "source": [
    "unet = SimpleUNet()"
   ]
  },
  {
   "cell_type": "code",
   "execution_count": 9,
   "id": "97fe998f-944e-4e75-8458-ac38d7ea79e5",
   "metadata": {},
   "outputs": [
    {
     "name": "stderr",
     "output_type": "stream",
     "text": [
      " 46%|██████████████████████████████████████████████▎                                                     | 182/393 [00:51<01:01,  3.43it/s]"
     ]
    },
    {
     "name": "stdout",
     "output_type": "stream",
     "text": [
      "5181 0\n"
     ]
    },
    {
     "name": "stderr",
     "output_type": "stream",
     "text": [
      " 47%|██████████████████████████████████████████████▌                                                     | 183/393 [00:51<01:00,  3.45it/s]"
     ]
    },
    {
     "name": "stdout",
     "output_type": "stream",
     "text": [
      "5182 0\n"
     ]
    },
    {
     "name": "stderr",
     "output_type": "stream",
     "text": [
      " 57%|█████████████████████████████████████████████████████████▎                                          | 225/393 [01:03<00:51,  3.24it/s]"
     ]
    },
    {
     "name": "stdout",
     "output_type": "stream",
     "text": [
      "5224 0\n"
     ]
    },
    {
     "name": "stderr",
     "output_type": "stream",
     "text": [
      " 68%|███████████████████████████████████████████████████████████████████▉                                | 267/393 [01:15<00:34,  3.67it/s]"
     ]
    },
    {
     "name": "stdout",
     "output_type": "stream",
     "text": [
      "5266 0\n"
     ]
    },
    {
     "name": "stderr",
     "output_type": "stream",
     "text": [
      " 78%|██████████████████████████████████████████████████████████████████████████████▎                     | 308/393 [01:25<00:21,  3.92it/s]"
     ]
    },
    {
     "name": "stdout",
     "output_type": "stream",
     "text": [
      "5307 0\n"
     ]
    },
    {
     "name": "stderr",
     "output_type": "stream",
     "text": [
      " 79%|██████████████████████████████████████████████████████████████████████████████▋                     | 309/393 [01:25<00:21,  3.93it/s]"
     ]
    },
    {
     "name": "stdout",
     "output_type": "stream",
     "text": [
      "5308 0\n"
     ]
    },
    {
     "name": "stderr",
     "output_type": "stream",
     "text": [
      " 89%|█████████████████████████████████████████████████████████████████████████████████████████           | 350/393 [01:36<00:11,  3.87it/s]"
     ]
    },
    {
     "name": "stdout",
     "output_type": "stream",
     "text": [
      "5349 0\n"
     ]
    },
    {
     "name": "stderr",
     "output_type": "stream",
     "text": [
      " 89%|█████████████████████████████████████████████████████████████████████████████████████████▎          | 351/393 [01:36<00:10,  3.88it/s]"
     ]
    },
    {
     "name": "stdout",
     "output_type": "stream",
     "text": [
      "5350 0\n"
     ]
    },
    {
     "name": "stderr",
     "output_type": "stream",
     "text": [
      "100%|███████████████████████████████████████████████████████████████████████████████████████████████████▋| 392/393 [01:47<00:00,  3.79it/s]"
     ]
    },
    {
     "name": "stdout",
     "output_type": "stream",
     "text": [
      "5391 0\n"
     ]
    },
    {
     "name": "stderr",
     "output_type": "stream",
     "text": [
      "100%|████████████████████████████████████████████████████████████████████████████████████████████████████| 393/393 [01:47<00:00,  3.64it/s]"
     ]
    },
    {
     "name": "stdout",
     "output_type": "stream",
     "text": [
      "5392 0\n"
     ]
    },
    {
     "name": "stderr",
     "output_type": "stream",
     "text": [
      "\n"
     ]
    }
   ],
   "source": [
    "beg = 5000\n",
    "for i, t in tqdm(enumerate(tiles[beg:], beg), total=len(tiles[beg:])):\n",
    "    image = [layers[:, t.top:t.bottom, t.left:t.right]]\n",
    "    x = torch.from_numpy(np.array(image))\n",
    "    x = unet.forward(x)\n",
    "    if x.isnan().any():\n",
    "        out = str(i)\n",
    "        for j, lay, in enumerate(x[0]):\n",
    "            if lay.isnan().any():\n",
    "                out += \" \" + str(j)\n",
    "        print(out)"
   ]
  },
  {
   "cell_type": "code",
   "execution_count": 12,
   "id": "6303dd6f-428e-42e4-a5e9-63906cfd142d",
   "metadata": {
    "tags": []
   },
   "outputs": [
    {
     "data": {
      "text/plain": [
       "array([[ 4.0003090e+00,  3.9771123e+00,  3.9511900e+00, ...,\n",
       "        -8.8542700e-03, -1.0271705e-03,            nan],\n",
       "       [ 4.0549617e+00,  4.0098433e+00,  3.9753520e+00, ...,\n",
       "        -8.8542700e-03, -1.0271705e-03,            nan],\n",
       "       [ 4.0643144e+00,  4.0418382e+00,  3.9860785e+00, ...,\n",
       "        -8.8542700e-03, -1.0271705e-03,            nan],\n",
       "       ...,\n",
       "       [ 4.3913574e+00,  4.2252350e+00,  4.0163112e+00, ...,\n",
       "        -8.8542700e-03, -1.0271705e-03,            nan],\n",
       "       [ 3.9985044e+00,  3.9826050e+00,  3.8196900e+00, ...,\n",
       "        -8.8542700e-03, -1.0271705e-03,            nan],\n",
       "       [ 3.8504720e+00,  3.8806260e+00,  3.8301361e+00, ...,\n",
       "        -8.8542700e-03, -1.0271705e-03,            nan]], dtype=float32)"
      ]
     },
     "execution_count": 12,
     "metadata": {},
     "output_type": "execute_result"
    }
   ],
   "source": [
    "t = tiles[5181]\n",
    "image = layers[:, t.top:t.bottom, t.left:t.right]\n",
    "image[0]"
   ]
  },
  {
   "cell_type": "code",
   "execution_count": null,
   "id": "c75b1d4a-eb46-4237-a103-6c81c13c2653",
   "metadata": {},
   "outputs": [],
   "source": []
  }
 ],
 "metadata": {
  "kernelspec": {
   "display_name": "Python 3 (ipykernel)",
   "language": "python",
   "name": "python3"
  },
  "language_info": {
   "codemirror_mode": {
    "name": "ipython",
    "version": 3
   },
   "file_extension": ".py",
   "mimetype": "text/x-python",
   "name": "python",
   "nbconvert_exporter": "python",
   "pygments_lexer": "ipython3",
   "version": "3.11.5"
  }
 },
 "nbformat": 4,
 "nbformat_minor": 5
}
