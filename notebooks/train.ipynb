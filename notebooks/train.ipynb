{
 "cells": [
  {
   "cell_type": "markdown",
   "id": "de2cc742-b498-43e2-9d8c-dc9dfb64a9a7",
   "metadata": {},
   "source": [
    "# Train a model"
   ]
  },
  {
   "cell_type": "code",
   "execution_count": 1,
   "id": "d6c9c59a-db53-4ee6-8a0a-34773981678f",
   "metadata": {},
   "outputs": [],
   "source": [
    "import csv\n",
    "from dataclasses import dataclass\n",
    "from pathlib import Path\n",
    "\n",
    "import numpy as np\n",
    "import torch\n",
    "import torch.nn as nn\n",
    "from skimage import io\n",
    "from torch.utils.data import Dataset\n",
    "from torchvision import transforms\n",
    "from tqdm import tqdm"
   ]
  },
  {
   "cell_type": "markdown",
   "id": "a9bcb9c6-e7ad-459e-a465-417ca8878bf5",
   "metadata": {},
   "source": [
    "### Constants derived in segment_tiffs"
   ]
  },
  {
   "cell_type": "code",
   "execution_count": 2,
   "id": "fd8c25ec-d8a3-4e99-b2a4-5b49f1e410be",
   "metadata": {},
   "outputs": [],
   "source": [
    "DATA_DIR = Path(\"..\") / \"data\"\n",
    "LAYER_DIR = DATA_DIR / \"layers\"\n",
    "\n",
    "STRIPE_CSV = DATA_DIR / \"stripes.csv\""
   ]
  },
  {
   "cell_type": "code",
   "execution_count": 3,
   "id": "e6dc6d85-79d7-4a21-b4c7-28afe8db44c9",
   "metadata": {},
   "outputs": [],
   "source": [
    "TILE_SIZE = 512"
   ]
  },
  {
   "cell_type": "code",
   "execution_count": 4,
   "id": "abab2c9c-fde7-4110-8f2e-bf104bd4e18b",
   "metadata": {},
   "outputs": [],
   "source": [
    "LAYERS = [\n",
    "    LAYER_DIR / \"fa.tif\",\n",
    "    LAYER_DIR / \"slope.tif\",\n",
    "    LAYER_DIR / \"wetness.tif\",\n",
    "    LAYER_DIR / \"dem.tif\",\n",
    "]\n",
    "\n",
    "TARGET = LAYER_DIR / \"larv_spot_50m_correct.tif\"\n",
    "\n",
    "STRIPE_CSV = DATA_DIR / \"stripes.csv\""
   ]
  },
  {
   "cell_type": "code",
   "execution_count": null,
   "id": "a02c9bbc-19d4-4327-8523-64e18c2293dc",
   "metadata": {},
   "outputs": [],
   "source": []
  }
 ],
 "metadata": {
  "kernelspec": {
   "display_name": "venv311",
   "language": "python",
   "name": "venv311"
  },
  "language_info": {
   "codemirror_mode": {
    "name": "ipython",
    "version": 3
   },
   "file_extension": ".py",
   "mimetype": "text/x-python",
   "name": "python",
   "nbconvert_exporter": "python",
   "pygments_lexer": "ipython3",
   "version": "3.11.5"
  }
 },
 "nbformat": 4,
 "nbformat_minor": 5
}
