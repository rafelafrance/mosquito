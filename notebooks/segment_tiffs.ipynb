{
 "cells": [
  {
   "cell_type": "markdown",
   "id": "0293714e-e549-4f29-84f3-abfe8af8324b",
   "metadata": {},
   "source": [
    "# Segment TIFF images"
   ]
  },
  {
   "cell_type": "code",
   "execution_count": 1,
   "id": "8007fff5-8010-4f32-876e-8f6e4de2513a",
   "metadata": {},
   "outputs": [],
   "source": [
    "import csv\n",
    "import math\n",
    "from dataclasses import dataclass\n",
    "from pathlib import Path\n",
    "\n",
    "import numpy as np\n",
    "import sklearn.model_selection as msel\n",
    "from skimage import io\n",
    "from tqdm import tqdm"
   ]
  },
  {
   "cell_type": "code",
   "execution_count": 2,
   "id": "34bc793c-5382-4b72-a9e8-fcbe20a54873",
   "metadata": {},
   "outputs": [],
   "source": [
    "DATA_DIR = Path(\"..\") / \"data\"\n",
    "LAYER_DIR = DATA_DIR / \"layers\"\n",
    "\n",
    "STRIPE_CSV = DATA_DIR / \"stripes.csv\""
   ]
  },
  {
   "cell_type": "markdown",
   "id": "954f06d5-1f93-4dc3-89a9-7364c2e1e49a",
   "metadata": {},
   "source": [
    "## Look at image properties"
   ]
  },
  {
   "cell_type": "markdown",
   "id": "dcdbe3d3-bedb-4bd7-b547-c097fab0cb58",
   "metadata": {},
   "source": [
    "For each layer print the height, width, data type, minimum, and maximum values."
   ]
  },
  {
   "cell_type": "code",
   "execution_count": 3,
   "id": "e8a361c7-8e93-4e8b-8551-374f9af29b3a",
   "metadata": {},
   "outputs": [
    {
     "data": {
      "text/plain": [
       "((41668, 19981), dtype('float32'), 0.0, 3.4e+38)"
      ]
     },
     "execution_count": 3,
     "metadata": {},
     "output_type": "execute_result"
    }
   ],
   "source": [
    "FA = io.imread(LAYER_DIR / \"fa.tif\")\n",
    "FA.shape, FA.dtype, FA.min(), FA.max()"
   ]
  },
  {
   "cell_type": "code",
   "execution_count": 4,
   "id": "caf6bcf5-cf55-4c2a-83d9-64400957a76a",
   "metadata": {},
   "outputs": [
    {
     "data": {
      "text/plain": [
       "((41668, 19981), dtype('float32'), -3.4028235e+38, 0.9276394)"
      ]
     },
     "execution_count": 4,
     "metadata": {},
     "output_type": "execute_result"
    }
   ],
   "source": [
    "SLOPE = io.imread(LAYER_DIR / \"slope.tif\")\n",
    "SLOPE.shape, SLOPE.dtype, SLOPE.min(), SLOPE.max()"
   ]
  },
  {
   "cell_type": "code",
   "execution_count": 5,
   "id": "d765e119-7eb0-49fe-a87a-4108a15d40a5",
   "metadata": {},
   "outputs": [
    {
     "data": {
      "text/plain": [
       "((41668, 19981), dtype('float32'), -3.4028235e+38, 53.34468)"
      ]
     },
     "execution_count": 5,
     "metadata": {},
     "output_type": "execute_result"
    }
   ],
   "source": [
    "WETNESS = io.imread(LAYER_DIR / \"wetness.tif\")\n",
    "WETNESS.shape, WETNESS.dtype, WETNESS.min(), WETNESS.max()"
   ]
  },
  {
   "cell_type": "code",
   "execution_count": 6,
   "id": "89534c18-cb5e-4f5e-a0f9-583690979496",
   "metadata": {},
   "outputs": [
    {
     "data": {
      "text/plain": [
       "((41668, 19981), dtype('float32'), -3.4028235e+38, 53.149834)"
      ]
     },
     "execution_count": 6,
     "metadata": {},
     "output_type": "execute_result"
    }
   ],
   "source": [
    "DEM = io.imread(LAYER_DIR / \"dem.tif\")\n",
    "DEM.shape, DEM.dtype, DEM.min(), DEM.max()"
   ]
  },
  {
   "cell_type": "code",
   "execution_count": 7,
   "id": "29e38910-1dbb-4ebd-8869-a14eea04bd0c",
   "metadata": {},
   "outputs": [
    {
     "data": {
      "text/plain": [
       "((41668, 19981), dtype('float32'), 0.0, 3.4e+38)"
      ]
     },
     "execution_count": 7,
     "metadata": {},
     "output_type": "execute_result"
    }
   ],
   "source": [
    "LARV = io.imread(LAYER_DIR / \"larv_spot_50m_correct.tif\")\n",
    "LARV.shape, LARV.dtype, LARV.min(), LARV.max()"
   ]
  },
  {
   "cell_type": "markdown",
   "id": "2efd52b7-0094-460f-8312-e44045761565",
   "metadata": {},
   "source": [
    "It appears that \"Not a Number\" (NaN) values area represented by the largest or smallest float32 value.\n",
    "\n",
    "Let's compare with the true minimum and maximum values for float32. None of the used map values are anywhere near to these extrema which makes them easy to identify and filter."
   ]
  },
  {
   "cell_type": "code",
   "execution_count": 8,
   "id": "1529b2db-760e-431a-b0ca-8573bbc2ffb9",
   "metadata": {},
   "outputs": [
    {
     "data": {
      "text/plain": [
       "(-3.4028235e+38, 3.4028235e+38)"
      ]
     },
     "execution_count": 8,
     "metadata": {},
     "output_type": "execute_result"
    }
   ],
   "source": [
    "np.finfo(np.float32).min, np.finfo(np.float32).max"
   ]
  },
  {
   "cell_type": "markdown",
   "id": "52d717d2-2ae0-4b93-bf0a-7c105aa401fb",
   "metadata": {},
   "source": [
    "I'll give myself some wiggle room for the constants that I'll use to detect NA values."
   ]
  },
  {
   "cell_type": "code",
   "execution_count": 9,
   "id": "a6d4264c-4337-4d88-9e4c-87af509d3cad",
   "metadata": {},
   "outputs": [],
   "source": [
    "NA_LO = -3.0e38\n",
    "NA_HI = 3.0e38"
   ]
  },
  {
   "cell_type": "markdown",
   "id": "1a6872d5-4a75-4d77-b253-f87da78fe113",
   "metadata": {},
   "source": [
    "## How many tiles can we actually use?"
   ]
  },
  {
   "cell_type": "markdown",
   "id": "a287c544-9786-4b2c-8bfc-f2a226eb1c3c",
   "metadata": {},
   "source": [
    "I only have one large image (with 4 layers) for training, validation, and testing. The strategy is to pretend that I've got several images by slicing the large image into several smaller images."
   ]
  },
  {
   "cell_type": "markdown",
   "id": "75b74f1f-97ba-41d4-aa01-5f949a8b98ec",
   "metadata": {},
   "source": [
    "I'll start with an arbitrary tile size of 512 x 512 pixels high & wide."
   ]
  },
  {
   "cell_type": "code",
   "execution_count": 10,
   "id": "b5a38864-47be-4d6b-abac-1a445dd20ae1",
   "metadata": {},
   "outputs": [],
   "source": [
    "TILE_SIZE = 512"
   ]
  },
  {
   "cell_type": "code",
   "execution_count": 11,
   "id": "68aaa3e2-4473-4342-afa6-e7821bc156be",
   "metadata": {},
   "outputs": [],
   "source": [
    "ROWS, COLS = FA.shape"
   ]
  },
  {
   "cell_type": "markdown",
   "id": "9cc898a2-50ed-4c1b-bdab-e6da3b2f06a2",
   "metadata": {},
   "source": [
    "## Segment the images"
   ]
  },
  {
   "cell_type": "markdown",
   "id": "018ad22a-93a2-4a02-857d-45fdc4aa009f",
   "metadata": {},
   "source": [
    "Dataset distribution strategy:\n",
    "1. Slice the images into 81 rows of tile sized data.\n",
    "2. Randomly assign the rows to the three datasets.\n",
    "3. Keep the sets the same between runs by pinning random state.\n",
    "\n",
    "There is a triangle at the top of the images that has no targets. Should I include that? For now, \"Yes.\"\n",
    "\n",
    "Using a 60/20/20% (train/val/test) split there will be 16 testing and validation stripes and (81 - 32 =) 49 training stripes."
   ]
  },
  {
   "cell_type": "markdown",
   "id": "88452299-12e4-4e55-8629-b09ed15e4514",
   "metadata": {},
   "source": [
    "#### Put image rows into datasets"
   ]
  },
  {
   "cell_type": "code",
   "execution_count": 12,
   "id": "ea174db0-88b1-4ea5-9629-9d99cd5a6f8b",
   "metadata": {},
   "outputs": [
    {
     "data": {
      "text/plain": [
       "(81, 49, 16, 16)"
      ]
     },
     "execution_count": 12,
     "metadata": {},
     "output_type": "execute_result"
    }
   ],
   "source": [
    "ALL_ROWS = list(range(ROWS // TILE_SIZE))\n",
    "\n",
    "TRAIN_INDEXES, others = msel.train_test_split(\n",
    "    ALL_ROWS, train_size=0.61, random_state=4486\n",
    ")\n",
    "VAL_INDEXES, TEST_INDEXES = msel.train_test_split(\n",
    "    others, test_size=0.5, random_state=9241\n",
    ")\n",
    "\n",
    "TRAIN_INDEXES = sorted(TRAIN_INDEXES)\n",
    "VAL_INDEXES = sorted(VAL_INDEXES)\n",
    "TEST_INDEXES = sorted(TEST_INDEXES)\n",
    "\n",
    "len(ALL_ROWS), len(TRAIN_INDEXES), len(VAL_INDEXES), len(TEST_INDEXES)"
   ]
  },
  {
   "cell_type": "markdown",
   "id": "b92f560b-7c9a-4de1-8817-1fb11239f9c6",
   "metadata": {},
   "source": [
    "#### Group adjacent indexes"
   ]
  },
  {
   "cell_type": "markdown",
   "id": "2c044fc0-873f-4b4e-bb1d-31cfbc90e10e",
   "metadata": {},
   "source": [
    "Now that the row indices are assigned to the datasets I will group rows that are adjacent into one big row. So if row 24 & 25 are both assigned to the \"val\" dataset I group them into one bigger row. The groups are given as ranges so the 24 & 25 case is written as (24, 26); remember that Python ranges are open at the top. Just to be clear, an ungrouped row like 0 is written as (0, 1).\n",
    "\n",
    "I do this so that I can squeeze out more tiles from each stripe. If we allow tiles to overlap then grouped rows will allow for many more tiles by allowing the tiles to float vertically. I should be careful with unaugmented tiles (val/test), and limit their overlap. I don't have to use every possible tile in a dataset."
   ]
  },
  {
   "cell_type": "code",
   "execution_count": 13,
   "id": "10bad64e-34d6-40f4-85ae-9ce887d6e5fe",
   "metadata": {},
   "outputs": [],
   "source": [
    "def group_rows(indexes):\n",
    "    group_beg = indexes[0]\n",
    "    group_end = group_beg + 1\n",
    "\n",
    "    grouped = []\n",
    "\n",
    "    for i in indexes[1:]:\n",
    "        if i == group_end:\n",
    "            group_end = i + 1\n",
    "        else:\n",
    "            grouped.append((group_beg, group_end))\n",
    "            group_beg = i\n",
    "            group_end = i + 1\n",
    "\n",
    "    grouped.append((group_beg, i + 1))\n",
    "    return grouped"
   ]
  },
  {
   "cell_type": "markdown",
   "id": "dcb59fe3-3cf3-4f5b-a232-b07acaf5b84e",
   "metadata": {},
   "source": [
    "Print grouped rows."
   ]
  },
  {
   "cell_type": "code",
   "execution_count": 14,
   "id": "eaad3016-1694-4a31-984f-fb23428de1c9",
   "metadata": {},
   "outputs": [],
   "source": [
    "def print_grouped_rows(indexes, grouped):\n",
    "    for i in indexes:\n",
    "        print(i, end=\" \")\n",
    "    print()\n",
    "\n",
    "    for i in grouped:\n",
    "        print(i, end=\" \")"
   ]
  },
  {
   "cell_type": "code",
   "execution_count": 15,
   "id": "4c1d509e-678b-47ef-adbf-2c49e26575de",
   "metadata": {},
   "outputs": [
    {
     "name": "stdout",
     "output_type": "stream",
     "text": [
      "0 3 4 5 6 9 10 13 14 16 17 19 21 22 23 26 28 30 31 32 36 37 38 41 42 43 44 45 48 49 52 53 54 57 59 60 62 63 65 66 67 68 69 73 74 75 76 78 79 \n",
      "(0, 1) (3, 7) (9, 11) (13, 15) (16, 18) (19, 20) (21, 24) (26, 27) (28, 29) (30, 33) (36, 39) (41, 46) (48, 50) (52, 55) (57, 58) (59, 61) (62, 64) (65, 70) (73, 77) (78, 80) "
     ]
    }
   ],
   "source": [
    "TRAIN_GROUPS = group_rows(TRAIN_INDEXES)\n",
    "print_grouped_rows(TRAIN_INDEXES, TRAIN_GROUPS)"
   ]
  },
  {
   "cell_type": "code",
   "execution_count": 16,
   "id": "5cdba3c1-4c4a-4ffe-96b3-d92d51636ae3",
   "metadata": {},
   "outputs": [
    {
     "name": "stdout",
     "output_type": "stream",
     "text": [
      "1 7 18 24 25 29 33 35 47 50 55 58 61 64 70 80 \n",
      "(1, 2) (7, 8) (18, 19) (24, 26) (29, 30) (33, 34) (35, 36) (47, 48) (50, 51) (55, 56) (58, 59) (61, 62) (64, 65) (70, 71) (80, 81) "
     ]
    }
   ],
   "source": [
    "VAL_GROUPS = group_rows(VAL_INDEXES)\n",
    "print_grouped_rows(VAL_INDEXES, VAL_GROUPS)"
   ]
  },
  {
   "cell_type": "code",
   "execution_count": 17,
   "id": "c9716de1-88c0-4022-8ba2-18ff61d0a8b5",
   "metadata": {},
   "outputs": [
    {
     "name": "stdout",
     "output_type": "stream",
     "text": [
      "2 8 11 12 15 20 27 34 39 40 46 51 56 71 72 77 \n",
      "(2, 3) (8, 9) (11, 13) (15, 16) (20, 21) (27, 28) (34, 35) (39, 41) (46, 47) (51, 52) (56, 57) (71, 73) (77, 78) "
     ]
    }
   ],
   "source": [
    "TEST_GROUPS = group_rows(TEST_INDEXES)\n",
    "print_grouped_rows(TEST_INDEXES, TEST_GROUPS)"
   ]
  },
  {
   "cell_type": "markdown",
   "id": "7e856ef5-fb62-4334-893e-d08b9f370611",
   "metadata": {},
   "source": [
    "#### Tiles with data"
   ]
  },
  {
   "cell_type": "markdown",
   "id": "25cc17cf-bd17-4cc3-8125-76e80ec25a38",
   "metadata": {},
   "source": [
    "A lot of the potential tiles are completely blank and I don't want to train on them so I'll keep a record of where the data is in each row."
   ]
  },
  {
   "cell_type": "code",
   "execution_count": 18,
   "id": "fdcabbce-4ec4-4910-9679-1e62df68e72a",
   "metadata": {},
   "outputs": [],
   "source": [
    "@dataclass\n",
    "class Stripe:\n",
    "    dataset: str  # Train, val, test\n",
    "    row: int  # Top pixel of stripe\n",
    "    beg: int  # First column with data\n",
    "    end: int  # Last column with data"
   ]
  },
  {
   "cell_type": "markdown",
   "id": "2147cf23-cd75-4db9-9837-19a676f92d32",
   "metadata": {},
   "source": [
    "#### Does the tile contain data?"
   ]
  },
  {
   "cell_type": "code",
   "execution_count": 19,
   "id": "b96896a3-a563-45a2-9575-18fdd9d7b16e",
   "metadata": {},
   "outputs": [],
   "source": [
    "def has_data(row, col):\n",
    "    tile = FA[row : row + TILE_SIZE, col : col + TILE_SIZE]\n",
    "    flag = ((tile > NA_LO) & (tile < NA_HI)).any()\n",
    "    return flag"
   ]
  },
  {
   "cell_type": "markdown",
   "id": "05d0c8cf-caeb-4b73-a787-f0f9c53b3abc",
   "metadata": {},
   "source": [
    "#### Build stripes"
   ]
  },
  {
   "cell_type": "code",
   "execution_count": 20,
   "id": "d202c2db-b766-4ff4-96a2-69aec4f0f1b9",
   "metadata": {},
   "outputs": [],
   "source": [
    "def build_stripes(groups, pixel_stride, dataset):\n",
    "    stripes = []\n",
    "    for beg, end in tqdm(groups):\n",
    "        top = beg * TILE_SIZE\n",
    "        bot = end * TILE_SIZE\n",
    "        for row in range(top, bot, pixel_stride):\n",
    "            beg = 999999\n",
    "            end = -999999\n",
    "            for col in range(0, COLS, pixel_stride):\n",
    "                if has_data(row, col):\n",
    "                    beg = min(beg, col)\n",
    "                    end = max(end, col)\n",
    "            stripes.append(Stripe(dataset, row, beg, end))\n",
    "    return stripes"
   ]
  },
  {
   "cell_type": "code",
   "execution_count": 21,
   "id": "9e31c16e-cc7e-4e0d-a6b0-b9140789ab2c",
   "metadata": {},
   "outputs": [
    {
     "name": "stderr",
     "output_type": "stream",
     "text": [
      "100%|██████████████████████████████████████████████████████████████████████████████████████████████████████████████████████████████████████| 20/20 [22:43<00:00, 68.16s/it]"
     ]
    },
    {
     "name": "stdout",
     "output_type": "stream",
     "text": [
      "3136\n"
     ]
    },
    {
     "name": "stderr",
     "output_type": "stream",
     "text": [
      "\n"
     ]
    }
   ],
   "source": [
    "TRAIN_STRIPES = build_stripes(TRAIN_GROUPS, pixel_stride=8, dataset=\"train\")\n",
    "print(len(TRAIN_STRIPES))"
   ]
  },
  {
   "cell_type": "code",
   "execution_count": 30,
   "id": "3e8d4ce2-8476-4a06-b9f7-449d7baffc30",
   "metadata": {},
   "outputs": [
    {
     "name": "stderr",
     "output_type": "stream",
     "text": [
      "100%|██████████████████████████████████████████████████████████████████████████████████████████████████████████████████████████████████████| 15/15 [07:18<00:00, 29.23s/it]"
     ]
    },
    {
     "name": "stdout",
     "output_type": "stream",
     "text": [
      "1024\n"
     ]
    },
    {
     "name": "stderr",
     "output_type": "stream",
     "text": [
      "\n"
     ]
    }
   ],
   "source": [
    "VAL_STRIPES = build_stripes(VAL_GROUPS, pixel_stride=8, dataset=\"val\")\n",
    "print(len(VAL_STRIPES))"
   ]
  },
  {
   "cell_type": "code",
   "execution_count": 31,
   "id": "107ba001-9f6d-4f32-86e5-4da5a0f2e9c3",
   "metadata": {},
   "outputs": [
    {
     "name": "stderr",
     "output_type": "stream",
     "text": [
      "100%|██████████████████████████████████████████████████████████████████████████████████████████████████████████████████████████████████████| 13/13 [07:24<00:00, 34.16s/it]"
     ]
    },
    {
     "name": "stdout",
     "output_type": "stream",
     "text": [
      "1024\n"
     ]
    },
    {
     "name": "stderr",
     "output_type": "stream",
     "text": [
      "\n"
     ]
    }
   ],
   "source": [
    "TEST_STRIPES = build_stripes(TEST_GROUPS, pixel_stride=8, dataset=\"test\")\n",
    "print(len(TEST_STRIPES))"
   ]
  },
  {
   "cell_type": "code",
   "execution_count": 32,
   "id": "26d085a0-f74e-4f7f-a600-4d0160b6a907",
   "metadata": {},
   "outputs": [],
   "source": [
    "ALL_STRIPES = TRAIN_STRIPES + VAL_STRIPES + TEST_STRIPES"
   ]
  },
  {
   "cell_type": "markdown",
   "id": "30b3eb40-8543-4f8a-8206-b77eae862d0b",
   "metadata": {},
   "source": [
    "I'll write this out so that I don't have to do this calculation over and over again."
   ]
  },
  {
   "cell_type": "code",
   "execution_count": 34,
   "id": "d72ec7a9-863c-4128-b2fa-9a8ceefe3aed",
   "metadata": {},
   "outputs": [],
   "source": [
    "with open(STRIPE_CSV, \"w\") as f:\n",
    "    writer = csv.DictWriter(f, ALL_STRIPES[0].__dict__.keys())\n",
    "    writer.writeheader()\n",
    "    for stripe in ALL_STRIPES:\n",
    "        writer.writerow(stripe.__dict__)"
   ]
  },
  {
   "cell_type": "code",
   "execution_count": null,
   "id": "e5ec008f-4673-402b-9067-db5b15f4e62f",
   "metadata": {},
   "outputs": [],
   "source": []
  }
 ],
 "metadata": {
  "kernelspec": {
   "display_name": "venv311",
   "language": "python",
   "name": "venv311"
  },
  "language_info": {
   "codemirror_mode": {
    "name": "ipython",
    "version": 3
   },
   "file_extension": ".py",
   "mimetype": "text/x-python",
   "name": "python",
   "nbconvert_exporter": "python",
   "pygments_lexer": "ipython3",
   "version": "3.11.5"
  }
 },
 "nbformat": 4,
 "nbformat_minor": 5
}
