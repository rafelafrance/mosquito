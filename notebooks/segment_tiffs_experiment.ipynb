{
 "cells": [
  {
   "cell_type": "markdown",
   "id": "0293714e-e549-4f29-84f3-abfe8af8324b",
   "metadata": {},
   "source": [
    "# Segment TIFF images"
   ]
  },
  {
   "cell_type": "markdown",
   "id": "9c8db9ff-a639-4eff-83f9-e2c9955313ff",
   "metadata": {},
   "source": [
    "The general idea is to use the large TIFF images as input layers for a U-Net for training, validation and testing. I'll do this by chopping the image layers into smaller chunks and feeding them into the neural net."
   ]
  },
  {
   "cell_type": "code",
   "execution_count": 1,
   "id": "8007fff5-8010-4f32-876e-8f6e4de2513a",
   "metadata": {},
   "outputs": [],
   "source": [
    "import math\n",
    "from pathlib import Path\n",
    "\n",
    "import numpy as np\n",
    "from skimage import io"
   ]
  },
  {
   "cell_type": "code",
   "execution_count": 2,
   "id": "34bc793c-5382-4b72-a9e8-fcbe20a54873",
   "metadata": {},
   "outputs": [],
   "source": [
    "LAYER_DIR = Path(\"..\") / \"data\" / \"layers\""
   ]
  },
  {
   "cell_type": "markdown",
   "id": "954f06d5-1f93-4dc3-89a9-7364c2e1e49a",
   "metadata": {},
   "source": [
    "## Look at image properties"
   ]
  },
  {
   "cell_type": "code",
   "execution_count": 3,
   "id": "e8a361c7-8e93-4e8b-8551-374f9af29b3a",
   "metadata": {},
   "outputs": [
    {
     "data": {
      "text/plain": [
       "((41668, 19981), dtype('float32'), 0.0, 3.4e+38)"
      ]
     },
     "execution_count": 3,
     "metadata": {},
     "output_type": "execute_result"
    }
   ],
   "source": [
    "fa = io.imread(LAYER_DIR / \"fa.tif\")\n",
    "fa.shape, fa.dtype, fa.min(), fa.max()"
   ]
  },
  {
   "cell_type": "code",
   "execution_count": 4,
   "id": "caf6bcf5-cf55-4c2a-83d9-64400957a76a",
   "metadata": {},
   "outputs": [
    {
     "data": {
      "text/plain": [
       "((41668, 19981), dtype('float32'), -3.4028235e+38, 0.9276394)"
      ]
     },
     "execution_count": 4,
     "metadata": {},
     "output_type": "execute_result"
    }
   ],
   "source": [
    "slope = io.imread(LAYER_DIR / \"slope.tif\")\n",
    "slope.shape, slope.dtype, slope.min(), slope.max()"
   ]
  },
  {
   "cell_type": "code",
   "execution_count": 5,
   "id": "d765e119-7eb0-49fe-a87a-4108a15d40a5",
   "metadata": {},
   "outputs": [
    {
     "data": {
      "text/plain": [
       "((41668, 19981), dtype('float32'), -3.4028235e+38, 53.34468)"
      ]
     },
     "execution_count": 5,
     "metadata": {},
     "output_type": "execute_result"
    }
   ],
   "source": [
    "wetness = io.imread(LAYER_DIR / \"wetness.tif\")\n",
    "wetness.shape, wetness.dtype, wetness.min(), wetness.max()"
   ]
  },
  {
   "cell_type": "code",
   "execution_count": 6,
   "id": "89534c18-cb5e-4f5e-a0f9-583690979496",
   "metadata": {},
   "outputs": [
    {
     "data": {
      "text/plain": [
       "((41668, 19981), dtype('float32'), -3.4028235e+38, 53.149834)"
      ]
     },
     "execution_count": 6,
     "metadata": {},
     "output_type": "execute_result"
    }
   ],
   "source": [
    "dem = io.imread(LAYER_DIR / \"dem.tif\")\n",
    "dem.shape, dem.dtype, dem.min(), dem.max()"
   ]
  },
  {
   "cell_type": "code",
   "execution_count": 7,
   "id": "29e38910-1dbb-4ebd-8869-a14eea04bd0c",
   "metadata": {},
   "outputs": [
    {
     "data": {
      "text/plain": [
       "((41668, 19981), dtype('float32'), 0.0, 3.4e+38)"
      ]
     },
     "execution_count": 7,
     "metadata": {},
     "output_type": "execute_result"
    }
   ],
   "source": [
    "larv = io.imread(LAYER_DIR / \"larv_spot_50m_correct.tif\")\n",
    "larv.shape, larv.dtype, larv.min(), larv.max()"
   ]
  },
  {
   "cell_type": "code",
   "execution_count": 8,
   "id": "1529b2db-760e-431a-b0ca-8573bbc2ffb9",
   "metadata": {},
   "outputs": [
    {
     "data": {
      "text/plain": [
       "(-3.4028235e+38, 3.4028235e+38)"
      ]
     },
     "execution_count": 8,
     "metadata": {},
     "output_type": "execute_result"
    }
   ],
   "source": [
    "np.finfo(np.float32).min, np.finfo(np.float32).max"
   ]
  },
  {
   "cell_type": "markdown",
   "id": "1a6872d5-4a75-4d77-b253-f87da78fe113",
   "metadata": {},
   "source": [
    "## How many tiles can we actually use?"
   ]
  },
  {
   "cell_type": "code",
   "execution_count": 15,
   "id": "b5a38864-47be-4d6b-abac-1a445dd20ae1",
   "metadata": {},
   "outputs": [],
   "source": [
    "tile_size = 512"
   ]
  },
  {
   "cell_type": "code",
   "execution_count": 16,
   "id": "25a548c4-ccf9-4857-a338-abd2b975a7a4",
   "metadata": {},
   "outputs": [
    {
     "data": {
      "text/plain": [
       "(81.3828125, 39.025390625, 3175.996047973633)"
      ]
     },
     "execution_count": 16,
     "metadata": {},
     "output_type": "execute_result"
    }
   ],
   "source": [
    "h = fa.shape[0] / tile_size\n",
    "w = fa.shape[1] / tile_size\n",
    "h, w, h * w"
   ]
  },
  {
   "cell_type": "markdown",
   "id": "50c0b7b4-81cb-46ca-8a1d-2bc7c1c54a44",
   "metadata": {},
   "source": [
    "These numbers are based off of raw image size but much of the image is masked out, so try a closer appoximation. The unmassked areas are mostly contiguous but offset from row to row."
   ]
  },
  {
   "cell_type": "code",
   "execution_count": 18,
   "id": "98ed5db0-bee2-4cb1-be0a-4f0f54b3a0c3",
   "metadata": {},
   "outputs": [
    {
     "data": {
      "text/plain": [
       "(278090069, 1060.8294258117676)"
      ]
     },
     "execution_count": 18,
     "metadata": {},
     "output_type": "execute_result"
    }
   ],
   "source": [
    "has_value = (fa < 3.0e+38).sum()\n",
    "has_value, has_value / (tile_size * tile_size)"
   ]
  },
  {
   "cell_type": "markdown",
   "id": "5d405d8a-bec6-4974-adb0-ba010ff1458d",
   "metadata": {},
   "source": [
    "Well that is rather depressing.\n",
    "\n",
    "I need to cordon off areas for the test and valdation datasets. The remainder is for the training dataset. I'll randomly crop the training data. The edges between the 3 datasets are absolute but tiles may partially hang out into the undefined regions.\n",
    "\n",
    "There is a triangle at the top of the images thathas no targets. Should I include that? For now, \"Yes.\""
   ]
  },
  {
   "cell_type": "markdown",
   "id": "018ad22a-93a2-4a02-857d-45fdc4aa009f",
   "metadata": {},
   "source": [
    "Dataset distribution strategy:\n",
    "1. Slice the images into 81 rows of tile sized data.\n",
    "2. Randomly assign the rows to the three datasets.\n",
    "There will be 16 testing and validation stripes and (81 - 32 =) 49 training stripes."
   ]
  },
  {
   "cell_type": "code",
   "execution_count": 19,
   "id": "4c4d0794-6d39-45b2-91b5-ee6226296f1d",
   "metadata": {},
   "outputs": [
    {
     "data": {
      "text/plain": [
       "16.0"
      ]
     },
     "execution_count": 19,
     "metadata": {},
     "output_type": "execute_result"
    }
   ],
   "source": [
    "80 * 0.2"
   ]
  },
  {
   "cell_type": "code",
   "execution_count": null,
   "id": "79edbffc-912d-4842-93ae-07ca8f216290",
   "metadata": {},
   "outputs": [],
   "source": []
  }
 ],
 "metadata": {
  "kernelspec": {
   "display_name": "venv311",
   "language": "python",
   "name": "venv311"
  },
  "language_info": {
   "codemirror_mode": {
    "name": "ipython",
    "version": 3
   },
   "file_extension": ".py",
   "mimetype": "text/x-python",
   "name": "python",
   "nbconvert_exporter": "python",
   "pygments_lexer": "ipython3",
   "version": "3.11.4"
  }
 },
 "nbformat": 4,
 "nbformat_minor": 5
}
